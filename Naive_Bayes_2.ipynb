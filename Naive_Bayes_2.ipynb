{
  "cells": [
    {
      "cell_type": "markdown",
      "metadata": {
        "id": "view-in-github",
        "colab_type": "text"
      },
      "source": [
        "<a href=\"https://colab.research.google.com/github/kareemullah123456789/MLE/blob/main/Naive_Bayes_2.ipynb\" target=\"_parent\"><img src=\"https://colab.research.google.com/assets/colab-badge.svg\" alt=\"Open In Colab\"/></a>"
      ]
    },
    {
      "cell_type": "code",
      "source": [],
      "metadata": {
        "id": "2jf6_Wlm_dey"
      },
      "id": "2jf6_Wlm_dey",
      "execution_count": null,
      "outputs": []
    },
    {
      "cell_type": "markdown",
      "source": [],
      "metadata": {
        "id": "KIMEB-rkEucV"
      },
      "id": "KIMEB-rkEucV"
    },
    {
      "cell_type": "markdown",
      "source": [
        "# Naive Bayes — Colab Markdown Notes\n",
        "\n",
        "## Bayes’ Theorem (classification view)\n",
        "\n",
        "$$\n",
        "P(\\text{Class} \\mid \\text{Evidence}) \\;=\\; \\frac{P(\\text{Evidence} \\mid \\text{Class}) \\, P(\\text{Class})}{P(\\text{Evidence})}\n",
        "$$\n",
        "\n",
        "For comparing classes, the denominator is constant, so:\n",
        "\n",
        "$$\n",
        "P(\\text{Class} \\mid \\text{Evidence}) \\;\\propto\\; P(\\text{Evidence} \\mid \\text{Class}) \\, P(\\text{Class})\n",
        "$$\n",
        "\n",
        "---\n",
        "\n",
        "## Naive (conditional independence) assumption\n",
        "\n",
        "For text with tokens $w_1,\\dots,w_n$:\n",
        "\n",
        "$$\n",
        "P(w_1,\\dots,w_n \\mid \\text{Class}) \\;=\\; \\prod_{i=1}^{n} P(w_i \\mid \\text{Class})\n",
        "$$\n",
        "\n",
        "This lets us compute a simple product of per-word likelihoods.\n",
        "\n",
        "---\n",
        "\n",
        "## Worked example (toy spam filter)\n",
        "\n",
        "Email to classify: **“win free money”**\n",
        "\n",
        "**Priors**\n",
        "\n",
        "$$\n",
        "P(\\text{Spam}) = 0.4, \\quad P(\\text{Ham}) = 0.6\n",
        "$$\n",
        "\n",
        "**Likelihoods**\n",
        "\n",
        "Spam:\n",
        "\n",
        "$$\n",
        "P(\\text{\"win\"}\\mid\\text{Spam})=0.2,\\quad\n",
        "P(\\text{\"free\"}\\mid\\text{Spam})=0.3,\\quad\n",
        "P(\\text{\"money\"}\\mid\\text{Spam})=0.4\n",
        "$$\n",
        "\n",
        "Ham:\n",
        "\n",
        "$$\n",
        "P(\\text{\"win\"}\\mid\\text{Ham})=0.01,\\quad\n",
        "P(\\text{\"free\"}\\mid\\text{Ham})=0.02,\\quad\n",
        "P(\\text{\"money\"}\\mid\\text{Ham})=0.01\n",
        "$$\n",
        "\n",
        "**Scores (unnormalized posteriors)**\n",
        "\n",
        "Spam:\n",
        "\n",
        "$$\n",
        "0.2 \\times 0.3 \\times 0.4 \\times 0.4 \\;=\\; \\mathbf{0.0096}\n",
        "$$\n",
        "\n",
        "Ham:\n",
        "\n",
        "$$\n",
        "0.01 \\times 0.02 \\times 0.01 \\times 0.6 \\;=\\; \\mathbf{0.0000012}\n",
        "$$\n",
        "\n",
        "Decision: **Spam** (higher score).\n",
        "To get exact posteriors, divide each score by the sum of both scores.\n",
        "\n",
        "---\n",
        "\n",
        "## Why it works well in practice\n",
        "\n",
        "* **Fast:** simple products (or sums in log space).\n",
        "* **Effective baseline:** strong on text tasks like spam filtering and sentiment.\n",
        "* **Data-efficient:** reasonable results with modest training data.\n",
        "\n",
        "---\n",
        "\n",
        "## Limitations\n",
        "\n",
        "* **Independence assumption:** tokens are not truly independent (e.g., “New” and “York”).\n",
        "* **Context/negation handling:** “not good” vs “good” needs care or additional features.\n",
        "\n",
        "---\n",
        "\n",
        "## Practical tips\n",
        "\n",
        "**1) Smoothing (Laplace/Add-α)**\n",
        "Avoids zero probabilities for unseen words:\n",
        "\n",
        "$$\n",
        "P(w \\mid \\text{Class}) \\;=\\; \\frac{\\text{count}(w,\\text{Class}) + \\alpha}\n",
        "{\\sum_{v \\in V}\\text{count}(v,\\text{Class}) + \\alpha \\, |V|}\n",
        "$$\n",
        "\n",
        "Common default: $\\alpha = 1$.\n",
        "\n",
        "**2) Use log probabilities**\n",
        "Prevent underflow and turn products into sums:\n",
        "\n",
        "$$\n",
        "\\log P(\\text{Class} \\mid \\text{Evidence})\n",
        "\\;\\propto\\;\n",
        "\\log P(\\text{Class}) + \\sum_i \\log P(w_i \\mid \\text{Class})\n",
        "$$\n",
        "\n",
        "**3) Variants**\n",
        "\n",
        "* **Multinomial NB:** counts of words (standard for text).\n",
        "* **Bernoulli NB:** binary presence/absence of words.\n",
        "* **Gaussian NB:** continuous features (not typical for raw text).\n",
        "\n",
        "---\n",
        "\n",
        "## Typical workflow (text)\n",
        "\n",
        "1. Clean text (lowercase, punctuation handling, optional stopword removal).\n",
        "2. Vectorize (Bag-of-Words or TF-IDF).\n",
        "3. Train **MultinomialNB** (with smoothing).\n",
        "4. Evaluate with accuracy, precision/recall, F1; inspect confusion matrix.\n",
        "5. Tune preprocessing (n-grams, min\\_df/max\\_df, stopwords) and smoothing α.\n"
      ],
      "metadata": {
        "id": "1sl7e4euE7iC"
      },
      "id": "1sl7e4euE7iC"
    },
    {
      "cell_type": "markdown",
      "id": "c70ec3b7-ba7f-4d4c-ba40-469ec0332a88",
      "metadata": {
        "id": "c70ec3b7-ba7f-4d4c-ba40-469ec0332a88"
      },
      "source": [
        "## Naive Bayes Algorithm - Classification of Algorithm\n",
        "- Based on **Bayes's theorem** of conditional probability\n",
        "- Calculate the probability of each test point to be in either of classes, given that the features that determine the class are given.\n",
        "- P(0/x1,x2,x3) and P(1/x1,x2,x3) is calculated, where 0 and 1 are classificcation. x1,x2,x3 are features\n",
        "- This algorithm assumes\n",
        "    - all classes are independent, while its not that true always. However, despite going wrong on basic logic, its still a very strong algorithm.\n",
        "    - Sequence doesn't matter, while its not true. Like the sequence of words in a sentence do matter for meaning of sentence.\n",
        "- Eg: In NLP, this is used to understand the tone of text like, 'If this word is present in the sentence, what class it belongs to?'\n",
        "- Widely used in HAM-SPAM classification\n",
        "- Very fast algorithm as it simply calculates probability based on features. Very strong results despite assumptions that serve as basis of algorithm are wrong.\n",
        "- Technically it processes words and language, so it may be thought as a part of NLP. But since it doens't understand semantics and sentiments of language, it can't handle language processing on its own.\n",
        "### 3 Types of Naive Bayes in Scikit Learn\n",
        "__Gaussian__\n",
        "- It is used in classification and it assumes that features follow a normal distribution.\n",
        "\n",
        "__Multinominal__\n",
        "- It is used for discrete counts. For eg., let's say we have a text cLassification problem. Here we consider Bernoulli trails which is one step further and instead of \"word occuring in the document\", we have \"count how often word occurs in the document\" you can think of it as \"number of times outcome number_x is observed over n trails\".\n",
        "\n",
        "__Bernoulli__\n",
        "- The binomial model is useful if your feature vectors are binary (ie., Zeroes and One). One application would be text classification with 'bag of words' model where the 1s and 0s are \"words occur in the document\" and \"word does not occur in the document\" respectively."
      ]
    },
    {
      "cell_type": "code",
      "source": [
        "from google.colab import drive\n",
        "drive.mount('/content/drive')"
      ],
      "metadata": {
        "colab": {
          "base_uri": "https://localhost:8080/"
        },
        "id": "CZNcqzcz_fJD",
        "outputId": "99888fc2-be24-4d0e-d252-893c5a201b1b"
      },
      "id": "CZNcqzcz_fJD",
      "execution_count": null,
      "outputs": [
        {
          "output_type": "stream",
          "name": "stdout",
          "text": [
            "Mounted at /content/drive\n"
          ]
        }
      ]
    },
    {
      "cell_type": "code",
      "source": [
        "import os\n",
        "\n",
        "base_path = \"/content/drive/MyDrive/HV\""
      ],
      "metadata": {
        "id": "lChhJTIY_nwr"
      },
      "id": "lChhJTIY_nwr",
      "execution_count": null,
      "outputs": []
    },
    {
      "cell_type": "code",
      "source": [
        "ls /content/drive/MyDrive/HV"
      ],
      "metadata": {
        "colab": {
          "base_uri": "https://localhost:8080/"
        },
        "id": "AuYIc_GP_-yQ",
        "outputId": "ffc29a7f-0fd4-4b8e-dd11-eaff146ac532"
      },
      "id": "AuYIc_GP_-yQ",
      "execution_count": null,
      "outputs": [
        {
          "output_type": "stream",
          "name": "stdout",
          "text": [
            "custom_functions.py                      processing_data.py\n",
            "Feature_engineering_and_PCA_Class.ipynb  \u001b[0m\u001b[01;34m__pycache__\u001b[0m/\n",
            "HR.csv                                   spam.csv\n",
            "Loading_from_pickle_titanic.ipynb        spam.tsv\n",
            "loan_approved.csv                        SVM_Implementation.ipynb\n",
            "Naive_Bayes.ipynb                        SVM_Preprocessing.ipynb\n",
            "output.csv                               train.csv\n",
            "preprocessing.py                         Transformer_pickle_demo.ipynb\n",
            "processed_data.pkl                       TreeAlgos_Data_Preprocessing.ipynb\n",
            "Processed_data.pkl                       Tree_CT.pkl\n",
            "Processed_data.pkl.pkl                   Trees_Implementation.ipynb\n"
          ]
        }
      ]
    },
    {
      "cell_type": "code",
      "execution_count": null,
      "id": "4a7f0e25-a282-4a4e-91cf-8ebee6771777",
      "metadata": {
        "colab": {
          "base_uri": "https://localhost:8080/"
        },
        "id": "4a7f0e25-a282-4a4e-91cf-8ebee6771777",
        "outputId": "e05d7701-9b1c-4b7d-daf7-d2eab545fd67"
      },
      "outputs": [
        {
          "output_type": "stream",
          "name": "stdout",
          "text": [
            "  Class                                               text\n",
            "0   ham  I've been searching for the right words to tha...\n",
            "1  spam  Free entry in 2 a wkly comp to win FA Cup fina...\n",
            "2   ham  Nah I don't think he goes to usf, he lives aro...\n",
            "3   ham  Even my brother is not like to speak with me. ...\n",
            "4   ham               I HAVE A DATE ON SUNDAY WITH WILL!!!\n"
          ]
        }
      ],
      "source": [
        "import os\n",
        "import pandas as pd\n",
        "\n",
        "base_path = \"/content/drive/MyDrive/HV\"   # or wherever your file actually is\n",
        "\n",
        "df = pd.read_csv(\n",
        "    os.path.join(base_path, \"spam.tsv\"),\n",
        "    sep=\"\\t\",\n",
        "    names=[\"Class\", \"text\"]\n",
        ")\n",
        "\n",
        "print(df.head())\n"
      ]
    },
    {
      "cell_type": "code",
      "execution_count": null,
      "id": "e304ca1a-4f5a-416b-be8f-507c2f5eaba5",
      "metadata": {
        "colab": {
          "base_uri": "https://localhost:8080/",
          "height": 206
        },
        "id": "e304ca1a-4f5a-416b-be8f-507c2f5eaba5",
        "outputId": "3a0e2095-56c8-4d72-9b56-abf191589263"
      },
      "outputs": [
        {
          "output_type": "execute_result",
          "data": {
            "text/plain": [
              "   type                                              email\n",
              "0   ham  Go until jurong point, crazy.. Available only ...\n",
              "1   ham                      Ok lar... Joking wif u oni...\n",
              "2  spam  Free entry in 2 a wkly comp to win FA Cup fina...\n",
              "3   ham  U dun say so early hor... U c already then say...\n",
              "4   ham  Nah I don't think he goes to usf, he lives aro..."
            ],
            "text/html": [
              "\n",
              "  <div id=\"df-6dd60f2f-e5c3-4588-969c-5fe1ffe9febb\" class=\"colab-df-container\">\n",
              "    <div>\n",
              "<style scoped>\n",
              "    .dataframe tbody tr th:only-of-type {\n",
              "        vertical-align: middle;\n",
              "    }\n",
              "\n",
              "    .dataframe tbody tr th {\n",
              "        vertical-align: top;\n",
              "    }\n",
              "\n",
              "    .dataframe thead th {\n",
              "        text-align: right;\n",
              "    }\n",
              "</style>\n",
              "<table border=\"1\" class=\"dataframe\">\n",
              "  <thead>\n",
              "    <tr style=\"text-align: right;\">\n",
              "      <th></th>\n",
              "      <th>type</th>\n",
              "      <th>email</th>\n",
              "    </tr>\n",
              "  </thead>\n",
              "  <tbody>\n",
              "    <tr>\n",
              "      <th>0</th>\n",
              "      <td>ham</td>\n",
              "      <td>Go until jurong point, crazy.. Available only ...</td>\n",
              "    </tr>\n",
              "    <tr>\n",
              "      <th>1</th>\n",
              "      <td>ham</td>\n",
              "      <td>Ok lar... Joking wif u oni...</td>\n",
              "    </tr>\n",
              "    <tr>\n",
              "      <th>2</th>\n",
              "      <td>spam</td>\n",
              "      <td>Free entry in 2 a wkly comp to win FA Cup fina...</td>\n",
              "    </tr>\n",
              "    <tr>\n",
              "      <th>3</th>\n",
              "      <td>ham</td>\n",
              "      <td>U dun say so early hor... U c already then say...</td>\n",
              "    </tr>\n",
              "    <tr>\n",
              "      <th>4</th>\n",
              "      <td>ham</td>\n",
              "      <td>Nah I don't think he goes to usf, he lives aro...</td>\n",
              "    </tr>\n",
              "  </tbody>\n",
              "</table>\n",
              "</div>\n",
              "    <div class=\"colab-df-buttons\">\n",
              "\n",
              "  <div class=\"colab-df-container\">\n",
              "    <button class=\"colab-df-convert\" onclick=\"convertToInteractive('df-6dd60f2f-e5c3-4588-969c-5fe1ffe9febb')\"\n",
              "            title=\"Convert this dataframe to an interactive table.\"\n",
              "            style=\"display:none;\">\n",
              "\n",
              "  <svg xmlns=\"http://www.w3.org/2000/svg\" height=\"24px\" viewBox=\"0 -960 960 960\">\n",
              "    <path d=\"M120-120v-720h720v720H120Zm60-500h600v-160H180v160Zm220 220h160v-160H400v160Zm0 220h160v-160H400v160ZM180-400h160v-160H180v160Zm440 0h160v-160H620v160ZM180-180h160v-160H180v160Zm440 0h160v-160H620v160Z\"/>\n",
              "  </svg>\n",
              "    </button>\n",
              "\n",
              "  <style>\n",
              "    .colab-df-container {\n",
              "      display:flex;\n",
              "      gap: 12px;\n",
              "    }\n",
              "\n",
              "    .colab-df-convert {\n",
              "      background-color: #E8F0FE;\n",
              "      border: none;\n",
              "      border-radius: 50%;\n",
              "      cursor: pointer;\n",
              "      display: none;\n",
              "      fill: #1967D2;\n",
              "      height: 32px;\n",
              "      padding: 0 0 0 0;\n",
              "      width: 32px;\n",
              "    }\n",
              "\n",
              "    .colab-df-convert:hover {\n",
              "      background-color: #E2EBFA;\n",
              "      box-shadow: 0px 1px 2px rgba(60, 64, 67, 0.3), 0px 1px 3px 1px rgba(60, 64, 67, 0.15);\n",
              "      fill: #174EA6;\n",
              "    }\n",
              "\n",
              "    .colab-df-buttons div {\n",
              "      margin-bottom: 4px;\n",
              "    }\n",
              "\n",
              "    [theme=dark] .colab-df-convert {\n",
              "      background-color: #3B4455;\n",
              "      fill: #D2E3FC;\n",
              "    }\n",
              "\n",
              "    [theme=dark] .colab-df-convert:hover {\n",
              "      background-color: #434B5C;\n",
              "      box-shadow: 0px 1px 3px 1px rgba(0, 0, 0, 0.15);\n",
              "      filter: drop-shadow(0px 1px 2px rgba(0, 0, 0, 0.3));\n",
              "      fill: #FFFFFF;\n",
              "    }\n",
              "  </style>\n",
              "\n",
              "    <script>\n",
              "      const buttonEl =\n",
              "        document.querySelector('#df-6dd60f2f-e5c3-4588-969c-5fe1ffe9febb button.colab-df-convert');\n",
              "      buttonEl.style.display =\n",
              "        google.colab.kernel.accessAllowed ? 'block' : 'none';\n",
              "\n",
              "      async function convertToInteractive(key) {\n",
              "        const element = document.querySelector('#df-6dd60f2f-e5c3-4588-969c-5fe1ffe9febb');\n",
              "        const dataTable =\n",
              "          await google.colab.kernel.invokeFunction('convertToInteractive',\n",
              "                                                    [key], {});\n",
              "        if (!dataTable) return;\n",
              "\n",
              "        const docLinkHtml = 'Like what you see? Visit the ' +\n",
              "          '<a target=\"_blank\" href=https://colab.research.google.com/notebooks/data_table.ipynb>data table notebook</a>'\n",
              "          + ' to learn more about interactive tables.';\n",
              "        element.innerHTML = '';\n",
              "        dataTable['output_type'] = 'display_data';\n",
              "        await google.colab.output.renderOutput(dataTable, element);\n",
              "        const docLink = document.createElement('div');\n",
              "        docLink.innerHTML = docLinkHtml;\n",
              "        element.appendChild(docLink);\n",
              "      }\n",
              "    </script>\n",
              "  </div>\n",
              "\n",
              "\n",
              "    <div id=\"df-31e48695-5702-435c-b110-2a71ea49bdf0\">\n",
              "      <button class=\"colab-df-quickchart\" onclick=\"quickchart('df-31e48695-5702-435c-b110-2a71ea49bdf0')\"\n",
              "                title=\"Suggest charts\"\n",
              "                style=\"display:none;\">\n",
              "\n",
              "<svg xmlns=\"http://www.w3.org/2000/svg\" height=\"24px\"viewBox=\"0 0 24 24\"\n",
              "     width=\"24px\">\n",
              "    <g>\n",
              "        <path d=\"M19 3H5c-1.1 0-2 .9-2 2v14c0 1.1.9 2 2 2h14c1.1 0 2-.9 2-2V5c0-1.1-.9-2-2-2zM9 17H7v-7h2v7zm4 0h-2V7h2v10zm4 0h-2v-4h2v4z\"/>\n",
              "    </g>\n",
              "</svg>\n",
              "      </button>\n",
              "\n",
              "<style>\n",
              "  .colab-df-quickchart {\n",
              "      --bg-color: #E8F0FE;\n",
              "      --fill-color: #1967D2;\n",
              "      --hover-bg-color: #E2EBFA;\n",
              "      --hover-fill-color: #174EA6;\n",
              "      --disabled-fill-color: #AAA;\n",
              "      --disabled-bg-color: #DDD;\n",
              "  }\n",
              "\n",
              "  [theme=dark] .colab-df-quickchart {\n",
              "      --bg-color: #3B4455;\n",
              "      --fill-color: #D2E3FC;\n",
              "      --hover-bg-color: #434B5C;\n",
              "      --hover-fill-color: #FFFFFF;\n",
              "      --disabled-bg-color: #3B4455;\n",
              "      --disabled-fill-color: #666;\n",
              "  }\n",
              "\n",
              "  .colab-df-quickchart {\n",
              "    background-color: var(--bg-color);\n",
              "    border: none;\n",
              "    border-radius: 50%;\n",
              "    cursor: pointer;\n",
              "    display: none;\n",
              "    fill: var(--fill-color);\n",
              "    height: 32px;\n",
              "    padding: 0;\n",
              "    width: 32px;\n",
              "  }\n",
              "\n",
              "  .colab-df-quickchart:hover {\n",
              "    background-color: var(--hover-bg-color);\n",
              "    box-shadow: 0 1px 2px rgba(60, 64, 67, 0.3), 0 1px 3px 1px rgba(60, 64, 67, 0.15);\n",
              "    fill: var(--button-hover-fill-color);\n",
              "  }\n",
              "\n",
              "  .colab-df-quickchart-complete:disabled,\n",
              "  .colab-df-quickchart-complete:disabled:hover {\n",
              "    background-color: var(--disabled-bg-color);\n",
              "    fill: var(--disabled-fill-color);\n",
              "    box-shadow: none;\n",
              "  }\n",
              "\n",
              "  .colab-df-spinner {\n",
              "    border: 2px solid var(--fill-color);\n",
              "    border-color: transparent;\n",
              "    border-bottom-color: var(--fill-color);\n",
              "    animation:\n",
              "      spin 1s steps(1) infinite;\n",
              "  }\n",
              "\n",
              "  @keyframes spin {\n",
              "    0% {\n",
              "      border-color: transparent;\n",
              "      border-bottom-color: var(--fill-color);\n",
              "      border-left-color: var(--fill-color);\n",
              "    }\n",
              "    20% {\n",
              "      border-color: transparent;\n",
              "      border-left-color: var(--fill-color);\n",
              "      border-top-color: var(--fill-color);\n",
              "    }\n",
              "    30% {\n",
              "      border-color: transparent;\n",
              "      border-left-color: var(--fill-color);\n",
              "      border-top-color: var(--fill-color);\n",
              "      border-right-color: var(--fill-color);\n",
              "    }\n",
              "    40% {\n",
              "      border-color: transparent;\n",
              "      border-right-color: var(--fill-color);\n",
              "      border-top-color: var(--fill-color);\n",
              "    }\n",
              "    60% {\n",
              "      border-color: transparent;\n",
              "      border-right-color: var(--fill-color);\n",
              "    }\n",
              "    80% {\n",
              "      border-color: transparent;\n",
              "      border-right-color: var(--fill-color);\n",
              "      border-bottom-color: var(--fill-color);\n",
              "    }\n",
              "    90% {\n",
              "      border-color: transparent;\n",
              "      border-bottom-color: var(--fill-color);\n",
              "    }\n",
              "  }\n",
              "</style>\n",
              "\n",
              "      <script>\n",
              "        async function quickchart(key) {\n",
              "          const quickchartButtonEl =\n",
              "            document.querySelector('#' + key + ' button');\n",
              "          quickchartButtonEl.disabled = true;  // To prevent multiple clicks.\n",
              "          quickchartButtonEl.classList.add('colab-df-spinner');\n",
              "          try {\n",
              "            const charts = await google.colab.kernel.invokeFunction(\n",
              "                'suggestCharts', [key], {});\n",
              "          } catch (error) {\n",
              "            console.error('Error during call to suggestCharts:', error);\n",
              "          }\n",
              "          quickchartButtonEl.classList.remove('colab-df-spinner');\n",
              "          quickchartButtonEl.classList.add('colab-df-quickchart-complete');\n",
              "        }\n",
              "        (() => {\n",
              "          let quickchartButtonEl =\n",
              "            document.querySelector('#df-31e48695-5702-435c-b110-2a71ea49bdf0 button');\n",
              "          quickchartButtonEl.style.display =\n",
              "            google.colab.kernel.accessAllowed ? 'block' : 'none';\n",
              "        })();\n",
              "      </script>\n",
              "    </div>\n",
              "\n",
              "    </div>\n",
              "  </div>\n"
            ],
            "application/vnd.google.colaboratory.intrinsic+json": {
              "type": "dataframe",
              "variable_name": "df1",
              "summary": "{\n  \"name\": \"df1\",\n  \"rows\": 5572,\n  \"fields\": [\n    {\n      \"column\": \"type\",\n      \"properties\": {\n        \"dtype\": \"category\",\n        \"num_unique_values\": 2,\n        \"samples\": [\n          \"spam\",\n          \"ham\"\n        ],\n        \"semantic_type\": \"\",\n        \"description\": \"\"\n      }\n    },\n    {\n      \"column\": \"email\",\n      \"properties\": {\n        \"dtype\": \"string\",\n        \"num_unique_values\": 5169,\n        \"samples\": [\n          \"Did u download the fring app?\",\n          \"Pass dis to all ur contacts n see wat u get! Red;i'm in luv wid u. Blue;u put a smile on my face. Purple;u r realy hot. Pink;u r so swt. Orange;i thnk i lyk u. Green;i realy wana go out wid u. Yelow;i wnt u bck. Black;i'm jealous of u. Brown;i miss you Nw plz giv me one color\"\n        ],\n        \"semantic_type\": \"\",\n        \"description\": \"\"\n      }\n    }\n  ]\n}"
            }
          },
          "metadata": {},
          "execution_count": 6
        }
      ],
      "source": [
        "#The csv file being read\n",
        "import pandas as pd\n",
        "import numpy as np\n",
        "import string\n",
        "df1 = pd.read_csv(os.path.join(base_path,\"spam.csv\"),encoding='latin1')    #encoding is specified as latin1 because text contains non-unicode characters\n",
        "df1.head()"
      ]
    },
    {
      "cell_type": "code",
      "execution_count": null,
      "id": "6caf3f4e-285e-44b6-a98f-a6d540f314c7",
      "metadata": {
        "id": "6caf3f4e-285e-44b6-a98f-a6d540f314c7",
        "outputId": "ba9441e2-4762-4706-9f9b-ad8b036d81a2"
      },
      "outputs": [
        {
          "data": {
            "text/plain": [
              "(5567, 2)"
            ]
          },
          "execution_count": 4,
          "metadata": {},
          "output_type": "execute_result"
        }
      ],
      "source": [
        "df.shape"
      ]
    },
    {
      "cell_type": "markdown",
      "id": "521eb264-c7e0-459b-bb90-7dfc335a266e",
      "metadata": {
        "id": "521eb264-c7e0-459b-bb90-7dfc335a266e"
      },
      "source": [
        "## Text preprocessing"
      ]
    },
    {
      "cell_type": "code",
      "execution_count": null,
      "id": "362dafd0-4085-4511-9f71-c8a2050939bb",
      "metadata": {
        "colab": {
          "base_uri": "https://localhost:8080/"
        },
        "id": "362dafd0-4085-4511-9f71-c8a2050939bb",
        "outputId": "7d9608d6-f646-4fa2-e7f4-abccbded3a8a"
      },
      "outputs": [
        {
          "output_type": "execute_result",
          "data": {
            "text/plain": [
              "array([0, 1, 0, ..., 0, 0, 0], dtype=object)"
            ]
          },
          "metadata": {},
          "execution_count": 7
        }
      ],
      "source": [
        "df.loc[df['Class']=='spam','Class'] = 1\n",
        "df.loc[df['Class']=='ham','Class'] = 0\n",
        "y = df['Class'].values #defining target\n",
        "y"
      ]
    },
    {
      "cell_type": "code",
      "execution_count": null,
      "id": "9a2d5ed4-0ede-4bf0-b228-f747a8adf545",
      "metadata": {
        "colab": {
          "base_uri": "https://localhost:8080/",
          "height": 36
        },
        "id": "9a2d5ed4-0ede-4bf0-b228-f747a8adf545",
        "outputId": "19bbe23a-e79d-44dc-8f83-7b413b4e209e"
      },
      "outputs": [
        {
          "output_type": "execute_result",
          "data": {
            "text/plain": [
              "'!\"#$%&\\'()*+,-./:;<=>?@[\\\\]^_`{|}~'"
            ],
            "application/vnd.google.colaboratory.intrinsic+json": {
              "type": "string"
            }
          },
          "metadata": {},
          "execution_count": 8
        }
      ],
      "source": [
        "#Strings are sensitive to case and punctuation. So when dealing with strings, we remove punctuations and convert case\n",
        "string.punctuation"
      ]
    },
    {
      "cell_type": "code",
      "execution_count": null,
      "id": "b16d1a62-1097-400f-8e2c-6bca2141a239",
      "metadata": {
        "colab": {
          "base_uri": "https://localhost:8080/"
        },
        "id": "b16d1a62-1097-400f-8e2c-6bca2141a239",
        "outputId": "7fdc85c4-cfa1-4aeb-dc41-5cbff5220ef5"
      },
      "outputs": [
        {
          "output_type": "execute_result",
          "data": {
            "text/plain": [
              "False"
            ]
          },
          "metadata": {},
          "execution_count": 9
        }
      ],
      "source": [
        "# Why is it important to remove punctuation?\n",
        "\n",
        "\"This message is spam\" == \"This message is spam.\""
      ]
    },
    {
      "cell_type": "code",
      "execution_count": null,
      "id": "569e0f5c-5522-42af-94cd-494472221d86",
      "metadata": {
        "colab": {
          "base_uri": "https://localhost:8080/",
          "height": 36
        },
        "id": "569e0f5c-5522-42af-94cd-494472221d86",
        "outputId": "52ed8b41-d9bb-4b43-90b7-8ca1a9836087"
      },
      "outputs": [
        {
          "output_type": "execute_result",
          "data": {
            "text/plain": [
              "'Animals are dfd'"
            ],
            "application/vnd.google.colaboratory.intrinsic+json": {
              "type": "string"
            }
          },
          "metadata": {},
          "execution_count": 10
        }
      ],
      "source": [
        "def remove_punc(text):\n",
        "    return \"\".join(char for char in text if char not in string.punctuation)\n",
        "remove_punc('Animals are ,dfd/.,/')"
      ]
    },
    {
      "cell_type": "code",
      "execution_count": null,
      "id": "a1b28c01-5c20-4efd-bd4e-757eb612e0ec",
      "metadata": {
        "colab": {
          "base_uri": "https://localhost:8080/",
          "height": 206
        },
        "id": "a1b28c01-5c20-4efd-bd4e-757eb612e0ec",
        "outputId": "9f3b62fa-f38b-4726-c057-0113e56f70ab"
      },
      "outputs": [
        {
          "output_type": "execute_result",
          "data": {
            "text/plain": [
              "  Class                                               text  \\\n",
              "0     0  I've been searching for the right words to tha...   \n",
              "1     1  Free entry in 2 a wkly comp to win FA Cup fina...   \n",
              "2     0  Nah I don't think he goes to usf, he lives aro...   \n",
              "3     0  Even my brother is not like to speak with me. ...   \n",
              "4     0               I HAVE A DATE ON SUNDAY WITH WILL!!!   \n",
              "\n",
              "                                             cln_txt  \n",
              "0  ive been searching for the right words to than...  \n",
              "1  free entry in 2 a wkly comp to win fa cup fina...  \n",
              "2  nah i dont think he goes to usf he lives aroun...  \n",
              "3  even my brother is not like to speak with me t...  \n",
              "4                  i have a date on sunday with will  "
            ],
            "text/html": [
              "\n",
              "  <div id=\"df-93b6b30f-2fdc-4818-8bfe-630edf75bf39\" class=\"colab-df-container\">\n",
              "    <div>\n",
              "<style scoped>\n",
              "    .dataframe tbody tr th:only-of-type {\n",
              "        vertical-align: middle;\n",
              "    }\n",
              "\n",
              "    .dataframe tbody tr th {\n",
              "        vertical-align: top;\n",
              "    }\n",
              "\n",
              "    .dataframe thead th {\n",
              "        text-align: right;\n",
              "    }\n",
              "</style>\n",
              "<table border=\"1\" class=\"dataframe\">\n",
              "  <thead>\n",
              "    <tr style=\"text-align: right;\">\n",
              "      <th></th>\n",
              "      <th>Class</th>\n",
              "      <th>text</th>\n",
              "      <th>cln_txt</th>\n",
              "    </tr>\n",
              "  </thead>\n",
              "  <tbody>\n",
              "    <tr>\n",
              "      <th>0</th>\n",
              "      <td>0</td>\n",
              "      <td>I've been searching for the right words to tha...</td>\n",
              "      <td>ive been searching for the right words to than...</td>\n",
              "    </tr>\n",
              "    <tr>\n",
              "      <th>1</th>\n",
              "      <td>1</td>\n",
              "      <td>Free entry in 2 a wkly comp to win FA Cup fina...</td>\n",
              "      <td>free entry in 2 a wkly comp to win fa cup fina...</td>\n",
              "    </tr>\n",
              "    <tr>\n",
              "      <th>2</th>\n",
              "      <td>0</td>\n",
              "      <td>Nah I don't think he goes to usf, he lives aro...</td>\n",
              "      <td>nah i dont think he goes to usf he lives aroun...</td>\n",
              "    </tr>\n",
              "    <tr>\n",
              "      <th>3</th>\n",
              "      <td>0</td>\n",
              "      <td>Even my brother is not like to speak with me. ...</td>\n",
              "      <td>even my brother is not like to speak with me t...</td>\n",
              "    </tr>\n",
              "    <tr>\n",
              "      <th>4</th>\n",
              "      <td>0</td>\n",
              "      <td>I HAVE A DATE ON SUNDAY WITH WILL!!!</td>\n",
              "      <td>i have a date on sunday with will</td>\n",
              "    </tr>\n",
              "  </tbody>\n",
              "</table>\n",
              "</div>\n",
              "    <div class=\"colab-df-buttons\">\n",
              "\n",
              "  <div class=\"colab-df-container\">\n",
              "    <button class=\"colab-df-convert\" onclick=\"convertToInteractive('df-93b6b30f-2fdc-4818-8bfe-630edf75bf39')\"\n",
              "            title=\"Convert this dataframe to an interactive table.\"\n",
              "            style=\"display:none;\">\n",
              "\n",
              "  <svg xmlns=\"http://www.w3.org/2000/svg\" height=\"24px\" viewBox=\"0 -960 960 960\">\n",
              "    <path d=\"M120-120v-720h720v720H120Zm60-500h600v-160H180v160Zm220 220h160v-160H400v160Zm0 220h160v-160H400v160ZM180-400h160v-160H180v160Zm440 0h160v-160H620v160ZM180-180h160v-160H180v160Zm440 0h160v-160H620v160Z\"/>\n",
              "  </svg>\n",
              "    </button>\n",
              "\n",
              "  <style>\n",
              "    .colab-df-container {\n",
              "      display:flex;\n",
              "      gap: 12px;\n",
              "    }\n",
              "\n",
              "    .colab-df-convert {\n",
              "      background-color: #E8F0FE;\n",
              "      border: none;\n",
              "      border-radius: 50%;\n",
              "      cursor: pointer;\n",
              "      display: none;\n",
              "      fill: #1967D2;\n",
              "      height: 32px;\n",
              "      padding: 0 0 0 0;\n",
              "      width: 32px;\n",
              "    }\n",
              "\n",
              "    .colab-df-convert:hover {\n",
              "      background-color: #E2EBFA;\n",
              "      box-shadow: 0px 1px 2px rgba(60, 64, 67, 0.3), 0px 1px 3px 1px rgba(60, 64, 67, 0.15);\n",
              "      fill: #174EA6;\n",
              "    }\n",
              "\n",
              "    .colab-df-buttons div {\n",
              "      margin-bottom: 4px;\n",
              "    }\n",
              "\n",
              "    [theme=dark] .colab-df-convert {\n",
              "      background-color: #3B4455;\n",
              "      fill: #D2E3FC;\n",
              "    }\n",
              "\n",
              "    [theme=dark] .colab-df-convert:hover {\n",
              "      background-color: #434B5C;\n",
              "      box-shadow: 0px 1px 3px 1px rgba(0, 0, 0, 0.15);\n",
              "      filter: drop-shadow(0px 1px 2px rgba(0, 0, 0, 0.3));\n",
              "      fill: #FFFFFF;\n",
              "    }\n",
              "  </style>\n",
              "\n",
              "    <script>\n",
              "      const buttonEl =\n",
              "        document.querySelector('#df-93b6b30f-2fdc-4818-8bfe-630edf75bf39 button.colab-df-convert');\n",
              "      buttonEl.style.display =\n",
              "        google.colab.kernel.accessAllowed ? 'block' : 'none';\n",
              "\n",
              "      async function convertToInteractive(key) {\n",
              "        const element = document.querySelector('#df-93b6b30f-2fdc-4818-8bfe-630edf75bf39');\n",
              "        const dataTable =\n",
              "          await google.colab.kernel.invokeFunction('convertToInteractive',\n",
              "                                                    [key], {});\n",
              "        if (!dataTable) return;\n",
              "\n",
              "        const docLinkHtml = 'Like what you see? Visit the ' +\n",
              "          '<a target=\"_blank\" href=https://colab.research.google.com/notebooks/data_table.ipynb>data table notebook</a>'\n",
              "          + ' to learn more about interactive tables.';\n",
              "        element.innerHTML = '';\n",
              "        dataTable['output_type'] = 'display_data';\n",
              "        await google.colab.output.renderOutput(dataTable, element);\n",
              "        const docLink = document.createElement('div');\n",
              "        docLink.innerHTML = docLinkHtml;\n",
              "        element.appendChild(docLink);\n",
              "      }\n",
              "    </script>\n",
              "  </div>\n",
              "\n",
              "\n",
              "    <div id=\"df-4c050c24-241d-4c69-892e-8aabee0f8e0e\">\n",
              "      <button class=\"colab-df-quickchart\" onclick=\"quickchart('df-4c050c24-241d-4c69-892e-8aabee0f8e0e')\"\n",
              "                title=\"Suggest charts\"\n",
              "                style=\"display:none;\">\n",
              "\n",
              "<svg xmlns=\"http://www.w3.org/2000/svg\" height=\"24px\"viewBox=\"0 0 24 24\"\n",
              "     width=\"24px\">\n",
              "    <g>\n",
              "        <path d=\"M19 3H5c-1.1 0-2 .9-2 2v14c0 1.1.9 2 2 2h14c1.1 0 2-.9 2-2V5c0-1.1-.9-2-2-2zM9 17H7v-7h2v7zm4 0h-2V7h2v10zm4 0h-2v-4h2v4z\"/>\n",
              "    </g>\n",
              "</svg>\n",
              "      </button>\n",
              "\n",
              "<style>\n",
              "  .colab-df-quickchart {\n",
              "      --bg-color: #E8F0FE;\n",
              "      --fill-color: #1967D2;\n",
              "      --hover-bg-color: #E2EBFA;\n",
              "      --hover-fill-color: #174EA6;\n",
              "      --disabled-fill-color: #AAA;\n",
              "      --disabled-bg-color: #DDD;\n",
              "  }\n",
              "\n",
              "  [theme=dark] .colab-df-quickchart {\n",
              "      --bg-color: #3B4455;\n",
              "      --fill-color: #D2E3FC;\n",
              "      --hover-bg-color: #434B5C;\n",
              "      --hover-fill-color: #FFFFFF;\n",
              "      --disabled-bg-color: #3B4455;\n",
              "      --disabled-fill-color: #666;\n",
              "  }\n",
              "\n",
              "  .colab-df-quickchart {\n",
              "    background-color: var(--bg-color);\n",
              "    border: none;\n",
              "    border-radius: 50%;\n",
              "    cursor: pointer;\n",
              "    display: none;\n",
              "    fill: var(--fill-color);\n",
              "    height: 32px;\n",
              "    padding: 0;\n",
              "    width: 32px;\n",
              "  }\n",
              "\n",
              "  .colab-df-quickchart:hover {\n",
              "    background-color: var(--hover-bg-color);\n",
              "    box-shadow: 0 1px 2px rgba(60, 64, 67, 0.3), 0 1px 3px 1px rgba(60, 64, 67, 0.15);\n",
              "    fill: var(--button-hover-fill-color);\n",
              "  }\n",
              "\n",
              "  .colab-df-quickchart-complete:disabled,\n",
              "  .colab-df-quickchart-complete:disabled:hover {\n",
              "    background-color: var(--disabled-bg-color);\n",
              "    fill: var(--disabled-fill-color);\n",
              "    box-shadow: none;\n",
              "  }\n",
              "\n",
              "  .colab-df-spinner {\n",
              "    border: 2px solid var(--fill-color);\n",
              "    border-color: transparent;\n",
              "    border-bottom-color: var(--fill-color);\n",
              "    animation:\n",
              "      spin 1s steps(1) infinite;\n",
              "  }\n",
              "\n",
              "  @keyframes spin {\n",
              "    0% {\n",
              "      border-color: transparent;\n",
              "      border-bottom-color: var(--fill-color);\n",
              "      border-left-color: var(--fill-color);\n",
              "    }\n",
              "    20% {\n",
              "      border-color: transparent;\n",
              "      border-left-color: var(--fill-color);\n",
              "      border-top-color: var(--fill-color);\n",
              "    }\n",
              "    30% {\n",
              "      border-color: transparent;\n",
              "      border-left-color: var(--fill-color);\n",
              "      border-top-color: var(--fill-color);\n",
              "      border-right-color: var(--fill-color);\n",
              "    }\n",
              "    40% {\n",
              "      border-color: transparent;\n",
              "      border-right-color: var(--fill-color);\n",
              "      border-top-color: var(--fill-color);\n",
              "    }\n",
              "    60% {\n",
              "      border-color: transparent;\n",
              "      border-right-color: var(--fill-color);\n",
              "    }\n",
              "    80% {\n",
              "      border-color: transparent;\n",
              "      border-right-color: var(--fill-color);\n",
              "      border-bottom-color: var(--fill-color);\n",
              "    }\n",
              "    90% {\n",
              "      border-color: transparent;\n",
              "      border-bottom-color: var(--fill-color);\n",
              "    }\n",
              "  }\n",
              "</style>\n",
              "\n",
              "      <script>\n",
              "        async function quickchart(key) {\n",
              "          const quickchartButtonEl =\n",
              "            document.querySelector('#' + key + ' button');\n",
              "          quickchartButtonEl.disabled = true;  // To prevent multiple clicks.\n",
              "          quickchartButtonEl.classList.add('colab-df-spinner');\n",
              "          try {\n",
              "            const charts = await google.colab.kernel.invokeFunction(\n",
              "                'suggestCharts', [key], {});\n",
              "          } catch (error) {\n",
              "            console.error('Error during call to suggestCharts:', error);\n",
              "          }\n",
              "          quickchartButtonEl.classList.remove('colab-df-spinner');\n",
              "          quickchartButtonEl.classList.add('colab-df-quickchart-complete');\n",
              "        }\n",
              "        (() => {\n",
              "          let quickchartButtonEl =\n",
              "            document.querySelector('#df-4c050c24-241d-4c69-892e-8aabee0f8e0e button');\n",
              "          quickchartButtonEl.style.display =\n",
              "            google.colab.kernel.accessAllowed ? 'block' : 'none';\n",
              "        })();\n",
              "      </script>\n",
              "    </div>\n",
              "\n",
              "    </div>\n",
              "  </div>\n"
            ],
            "application/vnd.google.colaboratory.intrinsic+json": {
              "type": "dataframe",
              "variable_name": "df",
              "summary": "{\n  \"name\": \"df\",\n  \"rows\": 5567,\n  \"fields\": [\n    {\n      \"column\": \"Class\",\n      \"properties\": {\n        \"dtype\": \"date\",\n        \"min\": 0,\n        \"max\": 1,\n        \"num_unique_values\": 2,\n        \"samples\": [\n          1,\n          0\n        ],\n        \"semantic_type\": \"\",\n        \"description\": \"\"\n      }\n    },\n    {\n      \"column\": \"text\",\n      \"properties\": {\n        \"dtype\": \"string\",\n        \"num_unique_values\": 5164,\n        \"samples\": [\n          \"Am not working but am up to eyes in philosophy so will text u later when a bit more free for chat...\",\n          \"ALRITE HUNNY!WOT U UP 2 2NITE? DIDNT END UP GOIN DOWN TOWN JUS DA PUB INSTEAD! JUS CHILLIN AT DA MO IN ME BEDROOM!LOVE JEN XXX.\"\n        ],\n        \"semantic_type\": \"\",\n        \"description\": \"\"\n      }\n    },\n    {\n      \"column\": \"cln_txt\",\n      \"properties\": {\n        \"dtype\": \"string\",\n        \"num_unique_values\": 5137,\n        \"samples\": [\n          \"your brother is a genius\",\n          \"give me a sec to think think about it\"\n        ],\n        \"semantic_type\": \"\",\n        \"description\": \"\"\n      }\n    }\n  ]\n}"
            }
          },
          "metadata": {},
          "execution_count": 11
        }
      ],
      "source": [
        "#Apply this function using 'apply' command or use a for loop\n",
        "df['cln_txt'] = df['text'].apply(lambda x: remove_punc(x).lower())\n",
        "df.head()"
      ]
    },
    {
      "cell_type": "markdown",
      "id": "e2b807d5-30a2-400c-af26-d68c4ac430c2",
      "metadata": {
        "id": "e2b807d5-30a2-400c-af26-d68c4ac430c2"
      },
      "source": [
        "- Tokenization (process of converting the normal text strings in to a list of tokens(also known as lemmas)).\n",
        "- Now we need to convert each of those messages into a vector the SciKit Learn's algorithm models can work with and machine learning model which we will gonig to use can understand."
      ]
    },
    {
      "cell_type": "code",
      "execution_count": null,
      "id": "ae08f016-c79a-4e9c-a156-058df134f57e",
      "metadata": {
        "colab": {
          "base_uri": "https://localhost:8080/"
        },
        "id": "ae08f016-c79a-4e9c-a156-058df134f57e",
        "outputId": "ebe86f36-b539-4b23-9f7e-114c45ea1427"
      },
      "outputs": [
        {
          "output_type": "execute_result",
          "data": {
            "text/plain": [
              "5567"
            ]
          },
          "metadata": {},
          "execution_count": 12
        }
      ],
      "source": [
        "len(df)"
      ]
    },
    {
      "cell_type": "code",
      "execution_count": null,
      "id": "cf5be56f-1e40-4fbd-a3dc-571ec74dd7be",
      "metadata": {
        "colab": {
          "base_uri": "https://localhost:8080/"
        },
        "id": "cf5be56f-1e40-4fbd-a3dc-571ec74dd7be",
        "outputId": "78f68aa9-b029-4a23-963d-d9cfc3583fdf"
      },
      "outputs": [
        {
          "output_type": "execute_result",
          "data": {
            "text/plain": [
              "numpy.ndarray"
            ]
          },
          "metadata": {},
          "execution_count": 13
        }
      ],
      "source": [
        "type(y)"
      ]
    },
    {
      "cell_type": "code",
      "execution_count": null,
      "id": "72c36ca3-2de8-4d0e-a418-79e104585272",
      "metadata": {
        "id": "72c36ca3-2de8-4d0e-a418-79e104585272"
      },
      "outputs": [],
      "source": [
        "from sklearn.feature_extraction.text import CountVectorizer, TfidfVectorizer\n",
        "cv=CountVectorizer(stop_words='english')\n",
        "# Countvectorizer is a method to convert text to numerical data.\n",
        "#specifying stop_words='english': Stops adding 'the','a' kind of words in the bag of words,\n",
        "#which might end up adding weightages to those words and their probabilities\n",
        "x = df['cln_txt']\n",
        "x_vec1 = cv.fit_transform(x)\n",
        "x_vec = x_vec1.toarray()    #vectorising the words and making it an array.\n",
        "y = y.astype('int8')  #Type casting y to integer"
      ]
    },
    {
      "cell_type": "code",
      "execution_count": null,
      "id": "45e28434-fd04-4f79-bd00-fb803e44be02",
      "metadata": {
        "colab": {
          "base_uri": "https://localhost:8080/"
        },
        "id": "45e28434-fd04-4f79-bd00-fb803e44be02",
        "outputId": "9526e8f1-2f11-4624-96dd-104f9e7c73bd"
      },
      "outputs": [
        {
          "output_type": "stream",
          "name": "stdout",
          "text": [
            "<class 'scipy.sparse._csr.csr_matrix'> <class 'numpy.ndarray'>\n"
          ]
        }
      ],
      "source": [
        "print(type(x_vec1), type(x_vec))"
      ]
    },
    {
      "cell_type": "code",
      "execution_count": null,
      "id": "ef7f5a7f-5a4d-4e73-a9a2-a9e8170babb2",
      "metadata": {
        "colab": {
          "base_uri": "https://localhost:8080/"
        },
        "id": "ef7f5a7f-5a4d-4e73-a9a2-a9e8170babb2",
        "outputId": "92468c19-92b6-4a80-8bd8-10a6657026d2"
      },
      "outputs": [
        {
          "output_type": "execute_result",
          "data": {
            "text/plain": [
              "(5567, 9270)"
            ]
          },
          "metadata": {},
          "execution_count": 16
        }
      ],
      "source": [
        "x_vec.shape"
      ]
    },
    {
      "cell_type": "code",
      "execution_count": null,
      "id": "98d2e4a3-67f3-4a06-9978-52ddd06433ef",
      "metadata": {
        "colab": {
          "base_uri": "https://localhost:8080/"
        },
        "id": "98d2e4a3-67f3-4a06-9978-52ddd06433ef",
        "outputId": "7a427e6c-daca-4bd2-be50-14d74e270439"
      },
      "outputs": [
        {
          "output_type": "execute_result",
          "data": {
            "text/plain": [
              "array([[0, 0, 0, ..., 0, 0, 0],\n",
              "       [0, 0, 0, ..., 0, 0, 0],\n",
              "       [0, 0, 0, ..., 0, 0, 0],\n",
              "       ...,\n",
              "       [0, 0, 0, ..., 0, 0, 0],\n",
              "       [0, 0, 0, ..., 0, 0, 0],\n",
              "       [0, 0, 0, ..., 0, 0, 0]])"
            ]
          },
          "metadata": {},
          "execution_count": 17
        }
      ],
      "source": [
        "x_vec"
      ]
    },
    {
      "cell_type": "code",
      "execution_count": null,
      "id": "8d879c26-2ea7-4ac1-a38b-f3d805b58546",
      "metadata": {
        "id": "8d879c26-2ea7-4ac1-a38b-f3d805b58546"
      },
      "outputs": [],
      "source": [
        "from sklearn.model_selection import train_test_split\n",
        "x_train,x_test,y_train,y_test = train_test_split(x_vec,y,test_size=0.2,random_state=42)"
      ]
    },
    {
      "cell_type": "code",
      "execution_count": null,
      "id": "cb07fc9b-1f66-4969-8c4f-625107311e4b",
      "metadata": {
        "colab": {
          "base_uri": "https://localhost:8080/"
        },
        "id": "cb07fc9b-1f66-4969-8c4f-625107311e4b",
        "outputId": "0236cdca-8c6a-4f3c-e628-6dfaaf1d9163"
      },
      "outputs": [
        {
          "output_type": "stream",
          "name": "stdout",
          "text": [
            "4453 1114\n"
          ]
        }
      ],
      "source": [
        "print(len(x_train),len(x_test))"
      ]
    },
    {
      "cell_type": "code",
      "execution_count": null,
      "id": "99f85e89-e7c6-428e-a212-66267afad605",
      "metadata": {
        "colab": {
          "base_uri": "https://localhost:8080/"
        },
        "id": "99f85e89-e7c6-428e-a212-66267afad605",
        "outputId": "e820f37d-7748-4a76-d32b-8f293c454e90"
      },
      "outputs": [
        {
          "output_type": "execute_result",
          "data": {
            "text/plain": [
              "array([0, 0, 0, ..., 0, 0, 1], dtype=int8)"
            ]
          },
          "metadata": {},
          "execution_count": 20
        }
      ],
      "source": [
        "from sklearn.naive_bayes import MultinomialNB   #Bernouli's NB is ideal\n",
        "nb = MultinomialNB()  #Creating instance\n",
        "nb.fit(x_train,y_train)\n",
        "y_pred = nb.predict(x_test)\n",
        "y_pred"
      ]
    },
    {
      "cell_type": "code",
      "execution_count": null,
      "id": "a4215ebb-ec70-49ac-912d-b43af6147040",
      "metadata": {
        "colab": {
          "base_uri": "https://localhost:8080/",
          "height": 178
        },
        "id": "a4215ebb-ec70-49ac-912d-b43af6147040",
        "outputId": "fbbf3fd8-bcda-4a2a-8700-90b9159f78df"
      },
      "outputs": [
        {
          "output_type": "execute_result",
          "data": {
            "text/plain": [
              "Class\n",
              "0    4821\n",
              "1     746\n",
              "Name: count, dtype: int64"
            ],
            "text/html": [
              "<div>\n",
              "<style scoped>\n",
              "    .dataframe tbody tr th:only-of-type {\n",
              "        vertical-align: middle;\n",
              "    }\n",
              "\n",
              "    .dataframe tbody tr th {\n",
              "        vertical-align: top;\n",
              "    }\n",
              "\n",
              "    .dataframe thead th {\n",
              "        text-align: right;\n",
              "    }\n",
              "</style>\n",
              "<table border=\"1\" class=\"dataframe\">\n",
              "  <thead>\n",
              "    <tr style=\"text-align: right;\">\n",
              "      <th></th>\n",
              "      <th>count</th>\n",
              "    </tr>\n",
              "    <tr>\n",
              "      <th>Class</th>\n",
              "      <th></th>\n",
              "    </tr>\n",
              "  </thead>\n",
              "  <tbody>\n",
              "    <tr>\n",
              "      <th>0</th>\n",
              "      <td>4821</td>\n",
              "    </tr>\n",
              "    <tr>\n",
              "      <th>1</th>\n",
              "      <td>746</td>\n",
              "    </tr>\n",
              "  </tbody>\n",
              "</table>\n",
              "</div><br><label><b>dtype:</b> int64</label>"
            ]
          },
          "metadata": {},
          "execution_count": 21
        }
      ],
      "source": [
        "df.Class.value_counts()"
      ]
    },
    {
      "cell_type": "code",
      "execution_count": null,
      "id": "02f8020b-7b81-4d31-8440-8717f31e18a9",
      "metadata": {
        "colab": {
          "base_uri": "https://localhost:8080/"
        },
        "id": "02f8020b-7b81-4d31-8440-8717f31e18a9",
        "outputId": "1b8a8ac4-8611-4b5c-b413-7ef0e28dafb7"
      },
      "outputs": [
        {
          "output_type": "stream",
          "name": "stdout",
          "text": [
            "              precision    recall  f1-score   support\n",
            "\n",
            "           0       0.99      0.98      0.99       969\n",
            "           1       0.88      0.96      0.92       145\n",
            "\n",
            "    accuracy                           0.98      1114\n",
            "   macro avg       0.94      0.97      0.95      1114\n",
            "weighted avg       0.98      0.98      0.98      1114\n",
            "\n"
          ]
        }
      ],
      "source": [
        "from sklearn.metrics import classification_report\n",
        "print(classification_report(y_test,y_pred))"
      ]
    },
    {
      "cell_type": "code",
      "execution_count": null,
      "id": "ac5c1fe8-7015-43ed-b608-933126870c99",
      "metadata": {
        "colab": {
          "base_uri": "https://localhost:8080/"
        },
        "id": "ac5c1fe8-7015-43ed-b608-933126870c99",
        "outputId": "37de3a72-951a-4b6e-8bc2-46d4750463e9"
      },
      "outputs": [
        {
          "output_type": "stream",
          "name": "stdout",
          "text": [
            "Enter a message: you have won a lottery\n",
            "spam\n"
          ]
        }
      ],
      "source": [
        "text= input('Enter a message: ')\n",
        "#txt = np.array(text)\n",
        "txt_vec = cv.transform([text])\n",
        "_pred = nb.predict(txt_vec)\n",
        "if _pred == 0:\n",
        "    print('ham')\n",
        "else:\n",
        "    print('spam')"
      ]
    },
    {
      "cell_type": "code",
      "execution_count": null,
      "id": "f936485e-02ec-41b3-9963-ada968a1b502",
      "metadata": {
        "colab": {
          "base_uri": "https://localhost:8080/"
        },
        "id": "f936485e-02ec-41b3-9963-ada968a1b502",
        "outputId": "3626b5bc-2ed3-4c76-a5d7-235e169ed8a4"
      },
      "outputs": [
        {
          "output_type": "stream",
          "name": "stdout",
          "text": [
            "Enter a message: come for lunch\n",
            "ham\n"
          ]
        }
      ],
      "source": [
        "text= input('Enter a message: ')\n",
        "#txt = np.array(text)\n",
        "txt_vec = cv.transform([text])\n",
        "_pred = nb.predict(txt_vec)\n",
        "if _pred == 0:\n",
        "    print('ham')\n",
        "else:\n",
        "    print('spam')"
      ]
    },
    {
      "cell_type": "markdown",
      "id": "7ccc48fc-a9f7-40c4-a5c5-3b51d991f33a",
      "metadata": {
        "id": "7ccc48fc-a9f7-40c4-a5c5-3b51d991f33a"
      },
      "source": [
        "## BAG OF WORDS\n",
        "We cannot pass text directly to train our models in Natural Language Processing, thus we need to convert it into numbers, which machine can understand and can perform the required modelling on it\n",
        "### TF-IDF approach\n",
        "In **BOW approach** we saw so far, all the words in the text are treated equally important. There is no notion of some words in the document being more important than others. TF-IDF addresses this issue. It aims to quantify the importance of a given word relative to other words in the document and in the\n",
        "\n",
        "\n",
        "<font color=darkviolet>  **Term Frequency (tf)** </font>\n",
        "TF: Term Frequency, which measures how frequently a term occurs in a document. Since every document is different in length, it is possible that a term would appear much more times in long documents than shorter ones. Thus, the term frequency is often divided by the document length (aka. the total number of terms in the document) as a way of normalization:\n",
        "\n",
        "TF(t) = (Number of times term 't' appears in a document) / (Total number of terms in the document).\n",
        "\n",
        "\n",
        "\n",
        "<font color=darkviolet>  **Inverse Document Frequency (idf)** </font>\n",
        "              It measures how important a term is. While computing TF, all terms are considered equally important. However it is known that certain terms, such as \"is\", \"of\", and \"that\", may appear a lot of times but have little importance. Thus we need to weigh down the frequent terms while scale up the rare ones, by computing the following:\n",
        "\n",
        "IDF(t) = log_e(Total number of documents / Number of documents with term t in it).corpus. It was commonly used representation scheme for information retrieval systems, for extracting relevant documents from a corpus for given text query.\n",
        "\n",
        "\n",
        "\n",
        "__Let's see an example:__\n",
        "\n",
        "Consider a document containing 100 words wherein the word cat appears 3 times.\n",
        "\n",
        "The term frequency (i.e., tf) for cat is then (3 / 100) = 0.03.\n",
        "\n",
        "Now, assume we have 10 million documents and the word cat appears in one thousand of these.\n",
        "\n",
        "Then, the inverse document frequency (i.e., idf) is calculated as log(10,000,000 / 1,000) = 4.\n",
        "\n",
        "Thus, the Tf-idf weight is the product of these quantities: 0.03 * 4 = 0.12"
      ]
    },
    {
      "cell_type": "code",
      "execution_count": null,
      "id": "3b10ff9a-c9f7-4ec8-ad23-c5618e2cd76f",
      "metadata": {
        "id": "3b10ff9a-c9f7-4ec8-ad23-c5618e2cd76f"
      },
      "outputs": [],
      "source": [
        "## text preprocessing and feature vectorizer\n",
        "# To extract features from a document of words, we import TfidfVectorizer\n",
        "from sklearn.feature_extraction.text import TfidfVectorizer\n",
        "\n",
        "x = df['cln_txt']\n",
        "tf=TfidfVectorizer() ## object creation\n",
        "X=tf.fit_transform(x) ## fitting and transforming the data into vector\n",
        "y = y.astype('int')"
      ]
    },
    {
      "cell_type": "code",
      "execution_count": null,
      "id": "9ccdb860-aa31-48a0-9ce2-145a3ff6f07e",
      "metadata": {
        "colab": {
          "base_uri": "https://localhost:8080/"
        },
        "id": "9ccdb860-aa31-48a0-9ce2-145a3ff6f07e",
        "outputId": "63478df5-3d03-4f78-c79a-112f9e33773b"
      },
      "outputs": [
        {
          "output_type": "execute_result",
          "data": {
            "text/plain": [
              "array(['008704050406', '0089my', '0121', ..., 'zyada', 'üll', '〨ud'],\n",
              "      dtype=object)"
            ]
          },
          "metadata": {},
          "execution_count": 26
        }
      ],
      "source": [
        "## print feature names selected from the raw documents\n",
        "#tf.get_feature_names()\n",
        "tf.get_feature_names_out()"
      ]
    },
    {
      "cell_type": "code",
      "execution_count": null,
      "id": "2b2fa7a1-0b04-4066-8860-a638e17d6f86",
      "metadata": {
        "colab": {
          "base_uri": "https://localhost:8080/"
        },
        "id": "2b2fa7a1-0b04-4066-8860-a638e17d6f86",
        "outputId": "ed211b14-8ca3-479a-c4af-4b7098e922ed"
      },
      "outputs": [
        {
          "output_type": "execute_result",
          "data": {
            "text/plain": [
              "9537"
            ]
          },
          "metadata": {},
          "execution_count": 27
        }
      ],
      "source": [
        "## number of features created\n",
        "len(tf.get_feature_names_out())"
      ]
    },
    {
      "cell_type": "code",
      "execution_count": null,
      "id": "8dedb71e-8f48-4332-9d71-e9ff6b46df57",
      "metadata": {
        "id": "8dedb71e-8f48-4332-9d71-e9ff6b46df57"
      },
      "outputs": [],
      "source": [
        "## getting the feature vectors (TFIDF arrays are not just as sparse as CV method, so they will be stored as native np arrays. toarray() commmand wont be needed)\n",
        "X=X.toarray()"
      ]
    },
    {
      "cell_type": "code",
      "execution_count": null,
      "id": "a05047be-87e3-4dea-a2db-d16c4f856992",
      "metadata": {
        "id": "a05047be-87e3-4dea-a2db-d16c4f856992"
      },
      "outputs": [],
      "source": [
        "## Creating training and testing\n",
        "from sklearn.model_selection import train_test_split\n",
        "X_train,X_test,y_train,y_test=train_test_split(X,y,random_state=6)"
      ]
    },
    {
      "cell_type": "code",
      "execution_count": null,
      "id": "1bdba9ab-809c-4aab-bf2b-9c4fa8db30c2",
      "metadata": {
        "id": "1bdba9ab-809c-4aab-bf2b-9c4fa8db30c2"
      },
      "outputs": [],
      "source": [
        "## Model creation\n",
        "from sklearn.naive_bayes import BernoulliNB\n",
        "\n",
        "## model object creation\n",
        "nb=BernoulliNB(alpha=0.01)\n",
        "\n",
        "## fitting the model\n",
        "nb.fit(X_train,y_train)\n",
        "\n",
        "## getting the prediction\n",
        "y_hat=nb.predict(X_test)"
      ]
    },
    {
      "cell_type": "code",
      "execution_count": null,
      "id": "075e31c8-696e-48cd-8fbb-aa43eb56ba25",
      "metadata": {
        "colab": {
          "base_uri": "https://localhost:8080/"
        },
        "id": "075e31c8-696e-48cd-8fbb-aa43eb56ba25",
        "outputId": "b3bc778b-8bfb-45b4-8aaf-4e7cbe79a184"
      },
      "outputs": [
        {
          "output_type": "stream",
          "name": "stdout",
          "text": [
            "              precision    recall  f1-score   support\n",
            "\n",
            "           0       0.99      0.99      0.99      1206\n",
            "           1       0.96      0.96      0.96       186\n",
            "\n",
            "    accuracy                           0.99      1392\n",
            "   macro avg       0.98      0.98      0.98      1392\n",
            "weighted avg       0.99      0.99      0.99      1392\n",
            "\n"
          ]
        }
      ],
      "source": [
        "# Evaluating the model\n",
        "from sklearn.metrics import classification_report,confusion_matrix\n",
        "print(classification_report(y_test,y_hat))"
      ]
    },
    {
      "cell_type": "code",
      "execution_count": null,
      "id": "e910d589-1c73-416b-b789-1078d39b810e",
      "metadata": {
        "id": "e910d589-1c73-416b-b789-1078d39b810e"
      },
      "outputs": [],
      "source": []
    },
    {
      "cell_type": "markdown",
      "source": [
        "TF-IDF to the rescue\n",
        "\n",
        "This is where TF-IDF comes in. It says:\n",
        "\n",
        "Words that occur often in one document are important (TF part).\n",
        "\n",
        "But words that occur everywhere across all documents are boring and should be down-weighted (IDF part).\n",
        "\n",
        "Fun Example (Spam emails edition)\n",
        "\n",
        "Suppose we have two “documents”:\n",
        "\n",
        "Doc1 (Spam): \"Win money now money free free cash.\"\n",
        "\n",
        "Doc2 (Ham): \"Let’s have lunch tomorrow at noon.\"\n",
        "\n",
        "Step 1: TF (term frequency)\n",
        "\n",
        "In Doc1, “money” appears 2 times out of 7 words → TF = 2/7.\n",
        "\n",
        "In Doc2, “money” = 0/6 = 0.\n",
        "\n",
        "Step 2: IDF (inverse document frequency)\n",
        "\n",
        "“money” appears in 1 out of 2 documents.\n",
        "\n",
        "IDF = log(2 / 1) = log(2) ≈ 0.693.\n",
        "\n",
        "Step 3: TF-IDF weight\n",
        "\n",
        "For Doc1: TF-IDF(“money”) = (2/7) * 0.693 ≈ 0.198.\n",
        "\n",
        "For Doc2: TF-IDF(“money”) = 0.\n",
        "\n",
        "Now compare that with the word “the”: if it existed in both documents, IDF would be log(2/2) = 0 → completely useless.\n",
        "\n",
        "So TF-IDF basically says:\n",
        "\n",
        "“money” → kinda important.\n",
        "\n",
        "“the” → shut up.\n",
        "\n",
        "Why this matters\n",
        "\n",
        "If you’re building a spam filter, TF-IDF ensures that words like “free,” “win,” and “cash” scream louder in the math than boring filler words.\n",
        "\n",
        "In search engines, TF-IDF helps rank pages. If you Google “cat memes,” the system boosts documents with rare-ish but relevant words like “cat” and “meme,” not ones filled with “the” and “is.”\n",
        "\n",
        "So in short:\n",
        "\n",
        "Document = one piece of text (email, tweet, article, whatever).\n",
        "\n",
        "TF = how often a word shows up in that document.\n",
        "\n",
        "IDF = how rare the word is across all documents.\n",
        "\n",
        "TF-IDF = TF × IDF = the word’s importance."
      ],
      "metadata": {
        "id": "0pP43XQoDVoE"
      },
      "id": "0pP43XQoDVoE"
    },
    {
      "cell_type": "code",
      "source": [],
      "metadata": {
        "id": "W8A0RSjxDWeP"
      },
      "id": "W8A0RSjxDWeP",
      "execution_count": null,
      "outputs": []
    }
  ],
  "metadata": {
    "kernelspec": {
      "display_name": "Python 3 (ipykernel)",
      "language": "python",
      "name": "python3"
    },
    "language_info": {
      "codemirror_mode": {
        "name": "ipython",
        "version": 3
      },
      "file_extension": ".py",
      "mimetype": "text/x-python",
      "name": "python",
      "nbconvert_exporter": "python",
      "pygments_lexer": "ipython3",
      "version": "3.12.4"
    },
    "colab": {
      "provenance": [],
      "include_colab_link": true
    }
  },
  "nbformat": 4,
  "nbformat_minor": 5
}